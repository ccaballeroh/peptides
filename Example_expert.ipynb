{
 "cells": [
  {
   "cell_type": "code",
   "execution_count": 4,
   "metadata": {},
   "outputs": [],
   "source": [
    "from src.peptides import send_sequence_expert, download\n",
    "import pandas as pd"
   ]
  },
  {
   "cell_type": "code",
   "execution_count": 2,
   "metadata": {},
   "outputs": [],
   "source": [
    "my_seq = \"GSEKMSTAISVLLAQAVFLLLTSQR\""
   ]
  },
  {
   "cell_type": "code",
   "execution_count": 3,
   "metadata": {},
   "outputs": [],
   "source": [
    "send_sequence_expert(my_seq)"
   ]
  },
  {
   "cell_type": "markdown",
   "metadata": {},
   "source": [
    "The previous function logs the sequence, modifications, and ran_id in a `log.csv` log file (configurable in [settings.py](./src/settings.py)). We can read the log file with pandas, for example:"
   ]
  },
  {
   "cell_type": "code",
   "execution_count": 6,
   "metadata": {},
   "outputs": [
    {
     "data": {
      "text/html": [
       "<div>\n",
       "<style scoped>\n",
       "    .dataframe tbody tr th:only-of-type {\n",
       "        vertical-align: middle;\n",
       "    }\n",
       "\n",
       "    .dataframe tbody tr th {\n",
       "        vertical-align: top;\n",
       "    }\n",
       "\n",
       "    .dataframe thead th {\n",
       "        text-align: right;\n",
       "    }\n",
       "</style>\n",
       "<table border=\"1\" class=\"dataframe\">\n",
       "  <thead>\n",
       "    <tr style=\"text-align: right;\">\n",
       "      <th></th>\n",
       "      <th>sequence</th>\n",
       "      <th>mod1</th>\n",
       "      <th>mod2</th>\n",
       "      <th>mod3</th>\n",
       "      <th>mod4</th>\n",
       "      <th>mod5</th>\n",
       "      <th>mod6</th>\n",
       "      <th>mod7</th>\n",
       "      <th>mod8</th>\n",
       "      <th>mod9</th>\n",
       "      <th>mod10</th>\n",
       "      <th>mod11</th>\n",
       "      <th>mod12</th>\n",
       "      <th>mod13</th>\n",
       "      <th>mod14</th>\n",
       "      <th>mod15</th>\n",
       "      <th>mod16</th>\n",
       "      <th>mod17</th>\n",
       "      <th>mod18</th>\n",
       "      <th>mod19</th>\n",
       "      <th>mod20</th>\n",
       "      <th>mod21</th>\n",
       "      <th>mod22</th>\n",
       "      <th>mod23</th>\n",
       "      <th>mod24</th>\n",
       "      <th>mod25</th>\n",
       "      <th>ran_id</th>\n",
       "    </tr>\n",
       "  </thead>\n",
       "  <tbody>\n",
       "    <tr>\n",
       "      <th>0</th>\n",
       "      <td>GSEKMSTAISVLLAQAVFLLLTSQR</td>\n",
       "      <td>No modification</td>\n",
       "      <td>No modification</td>\n",
       "      <td>No modification</td>\n",
       "      <td>No modification</td>\n",
       "      <td>No modification</td>\n",
       "      <td>No modification</td>\n",
       "      <td>No modification</td>\n",
       "      <td>No modification</td>\n",
       "      <td>No modification</td>\n",
       "      <td>No modification</td>\n",
       "      <td>norvaline</td>\n",
       "      <td>norleucine</td>\n",
       "      <td>norleucine</td>\n",
       "      <td>No modification</td>\n",
       "      <td>No modification</td>\n",
       "      <td>No modification</td>\n",
       "      <td>norvaline</td>\n",
       "      <td>No modification</td>\n",
       "      <td>norleucine</td>\n",
       "      <td>norleucine</td>\n",
       "      <td>norleucine</td>\n",
       "      <td>No modification</td>\n",
       "      <td>No modification</td>\n",
       "      <td>No modification</td>\n",
       "      <td>diaminobutyric acid</td>\n",
       "      <td>82032</td>\n",
       "    </tr>\n",
       "  </tbody>\n",
       "</table>\n",
       "</div>"
      ],
      "text/plain": [
       "                    sequence             mod1             mod2  \\\n",
       "0  GSEKMSTAISVLLAQAVFLLLTSQR  No modification  No modification   \n",
       "\n",
       "              mod3             mod4             mod5             mod6  \\\n",
       "0  No modification  No modification  No modification  No modification   \n",
       "\n",
       "              mod7             mod8             mod9            mod10  \\\n",
       "0  No modification  No modification  No modification  No modification   \n",
       "\n",
       "       mod11       mod12       mod13            mod14            mod15  \\\n",
       "0  norvaline  norleucine  norleucine  No modification  No modification   \n",
       "\n",
       "             mod16      mod17            mod18       mod19       mod20  \\\n",
       "0  No modification  norvaline  No modification  norleucine  norleucine   \n",
       "\n",
       "        mod21            mod22            mod23            mod24  \\\n",
       "0  norleucine  No modification  No modification  No modification   \n",
       "\n",
       "                 mod25  ran_id  \n",
       "0  diaminobutyric acid   82032  "
      ]
     },
     "execution_count": 6,
     "metadata": {},
     "output_type": "execute_result"
    }
   ],
   "source": [
    "pd.options.display.max_columns = 27\n",
    "log = pd.read_csv(\"log.csv\")\n",
    "log.head()"
   ]
  },
  {
   "cell_type": "markdown",
   "metadata": {},
   "source": [
    "The last column holds the `ran_id`, which is the only information needed to download the simulation reports\n",
    "\n",
    "**N.B.:** The results can take several minutes to be available."
   ]
  },
  {
   "cell_type": "code",
   "execution_count": 8,
   "metadata": {},
   "outputs": [
    {
     "name": "stdout",
     "output_type": "stream",
     "text": [
      "The ran id we'll download is 82032\n",
      "82032.pdb successfully downloaded\n"
     ]
    }
   ],
   "source": [
    "print(f\"The ran id we'll download is {log.ran_id[0]}\")\n",
    "download(log.ran_id[0])"
   ]
  },
  {
   "cell_type": "markdown",
   "metadata": {},
   "source": [
    "The PDB file was downloaded to the `outputs` folder (also configurable in [settings.py](./src/settings.py))."
   ]
  }
 ],
 "metadata": {
  "interpreter": {
   "hash": "14ccbe57c99ee36533ecfbe70ce6aef48209fc58447c6de013f49246757f8d2d"
  },
  "kernelspec": {
   "display_name": "Python 3.8.13 ('pept_seq')",
   "language": "python",
   "name": "python3"
  },
  "language_info": {
   "codemirror_mode": {
    "name": "ipython",
    "version": 3
   },
   "file_extension": ".py",
   "mimetype": "text/x-python",
   "name": "python",
   "nbconvert_exporter": "python",
   "pygments_lexer": "ipython3",
   "version": "3.8.13"
  },
  "orig_nbformat": 4
 },
 "nbformat": 4,
 "nbformat_minor": 2
}
