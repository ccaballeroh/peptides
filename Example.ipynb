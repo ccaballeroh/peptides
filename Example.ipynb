{
 "cells": [
  {
   "cell_type": "code",
   "execution_count": 1,
   "metadata": {},
   "outputs": [],
   "source": [
    "import pandas as pd\n",
    "\n",
    "import src.process_fasta as process_fasta\n",
    "import src.peptides as peptides"
   ]
  },
  {
   "cell_type": "markdown",
   "metadata": {},
   "source": [
    "## `send_sequence_mods`"
   ]
  },
  {
   "cell_type": "markdown",
   "metadata": {},
   "source": [
    "The function `send_sequence_mods` in the `peptides` module sends a sequence and a modification list. For example, for the sequence `GSEKMSTAISVLLAQAVFLLLTSQR` with no modification in any of its letters, the following code:"
   ]
  },
  {
   "cell_type": "code",
   "execution_count": null,
   "metadata": {},
   "outputs": [],
   "source": [
    "test_seq = \"GSEKMSTAISVLLAQAVFLLLTSQR\"\n",
    "mods_list = [\n",
    "    \"No Modification\", \"No Modification\", \"No Modification\", \"No Modification\", \"No Modification\",\n",
    "    \"No Modification\", \"No Modification\", \"No Modification\", \"No Modification\", \"No Modification\",\n",
    "    \"No Modification\", \"No Modification\", \"No Modification\", \"No Modification\", \"No Modification\",\n",
    "    \"No Modification\", \"No Modification\", \"No Modification\", \"No Modification\", \"No Modification\",\n",
    "    \"No Modification\", \"No Modification\", \"No Modification\", \"No Modification\", \"No Modification\",\n",
    "]\n",
    "\n",
    "peptides.send_sequence_mods(test_seq, mods_list, download_flag=True)"
   ]
  },
  {
   "cell_type": "markdown",
   "metadata": {},
   "source": [
    "sends the sequence and its modification list to the webpage and waits for the simulation file to be downloaded (note the `download_flag` set to `True`)."
   ]
  },
  {
   "cell_type": "markdown",
   "metadata": {},
   "source": [
    "## `process_fasta`"
   ]
  },
  {
   "cell_type": "markdown",
   "metadata": {},
   "source": [
    "We can proccess all the FASTA files contained in an input folder with the `run` function in the `process_fasta` module. This creates a CSV file with the `id` (e.g., 10E_9999) and the sequence `seq`. The names of the input folder and the CSV output file are defined in the [settings.py](./src/settings.py) file (`inputs` and `db.csv` by default). "
   ]
  },
  {
   "cell_type": "code",
   "execution_count": 2,
   "metadata": {},
   "outputs": [
    {
     "name": "stdout",
     "output_type": "stream",
     "text": [
      "All files in the `inputs` folder were succesfully processed!\n",
      "\n",
      "The CSV db.csv was created.\n"
     ]
    }
   ],
   "source": [
    "db_file = process_fasta.run()  # the function returns the CSV file name"
   ]
  },
  {
   "cell_type": "markdown",
   "metadata": {},
   "source": [
    "We can read the CSV file just created with pandas:"
   ]
  },
  {
   "cell_type": "code",
   "execution_count": 3,
   "metadata": {},
   "outputs": [
    {
     "data": {
      "text/html": [
       "<div>\n",
       "<style scoped>\n",
       "    .dataframe tbody tr th:only-of-type {\n",
       "        vertical-align: middle;\n",
       "    }\n",
       "\n",
       "    .dataframe tbody tr th {\n",
       "        vertical-align: top;\n",
       "    }\n",
       "\n",
       "    .dataframe thead th {\n",
       "        text-align: right;\n",
       "    }\n",
       "</style>\n",
       "<table border=\"1\" class=\"dataframe\">\n",
       "  <thead>\n",
       "    <tr style=\"text-align: right;\">\n",
       "      <th></th>\n",
       "      <th>id</th>\n",
       "      <th>seq</th>\n",
       "    </tr>\n",
       "  </thead>\n",
       "  <tbody>\n",
       "    <tr>\n",
       "      <th>0</th>\n",
       "      <td>10E_9999</td>\n",
       "      <td>LSIILTATLTITTLDGITSVSLIPV</td>\n",
       "    </tr>\n",
       "    <tr>\n",
       "      <th>1</th>\n",
       "      <td>10E_9988</td>\n",
       "      <td>LVATSVVDVALEDTADVPTPAEPAE</td>\n",
       "    </tr>\n",
       "    <tr>\n",
       "      <th>2</th>\n",
       "      <td>10E_9977</td>\n",
       "      <td>DILALILLSPSPDSGEESTASELSD</td>\n",
       "    </tr>\n",
       "    <tr>\n",
       "      <th>3</th>\n",
       "      <td>10E_9966</td>\n",
       "      <td>PTPDIGPELAIVIESSLEAASEIPG</td>\n",
       "    </tr>\n",
       "    <tr>\n",
       "      <th>4</th>\n",
       "      <td>10E_9955</td>\n",
       "      <td>DAVATEDLGGDDVITEPTTEEGPGD</td>\n",
       "    </tr>\n",
       "  </tbody>\n",
       "</table>\n",
       "</div>"
      ],
      "text/plain": [
       "         id                        seq\n",
       "0  10E_9999  LSIILTATLTITTLDGITSVSLIPV\n",
       "1  10E_9988  LVATSVVDVALEDTADVPTPAEPAE\n",
       "2  10E_9977  DILALILLSPSPDSGEESTASELSD\n",
       "3  10E_9966  PTPDIGPELAIVIESSLEAASEIPG\n",
       "4  10E_9955  DAVATEDLGGDDVITEPTTEEGPGD"
      ]
     },
     "execution_count": 3,
     "metadata": {},
     "output_type": "execute_result"
    }
   ],
   "source": [
    "pd.options.display.max_columns=27\n",
    "df_db = pd.read_csv(db_file)\n",
    "df_db.head()"
   ]
  },
  {
   "cell_type": "markdown",
   "metadata": {},
   "source": [
    "## `download`"
   ]
  },
  {
   "cell_type": "markdown",
   "metadata": {},
   "source": [
    "Every sequence and list of modifications sent to the webpage using the `send_sequence_mods` and `send_sequence` functions of the `peptides` module gets logged into a CSV log file specified in the [settings.py](./src/settings.py) file (`log.csv` by default).\n",
    "\n",
    "The log file contains a `sequence` column with the sequence sent to the webpage, 25 columns named `mod1` through `mod25` with the modification for each of the 25 letters of the sequence, and a column `ran_id` with the ran ID of the simulation results.\n",
    "\n",
    "We can use that ID to later download the simulation results from the webpage using the `download` function in the `peptides` module. The function will download the PDB files to a predefined location (specified in the [settings.py](./src/settings.py) file), which is `outputs` by default.\n",
    "\n",
    "**N.B.**: The simulation results are not available immediately and get deleted from the webpage after three days."
   ]
  },
  {
   "cell_type": "code",
   "execution_count": 4,
   "metadata": {},
   "outputs": [
    {
     "name": "stdout",
     "output_type": "stream",
     "text": [
      "19748.pdb successfully downloaded\n"
     ]
    }
   ],
   "source": [
    "ran_id = 19748  # example ID\n",
    "peptides.download(ran_id)"
   ]
  },
  {
   "cell_type": "markdown",
   "metadata": {},
   "source": [
    "## `send_sequence`"
   ]
  },
  {
   "cell_type": "markdown",
   "metadata": {},
   "source": [
    "We can also send a sequence with preset modifications. The rules of modifications are defined in the [settings.py](./src/settings.py) file.\n",
    "\n",
    "For example, we can read the sequences contained in the CSV product of the `process_fasta.run` function (i.e., `db.csv`) and send them to the website using the `send_sequence` function in the `peptides` module with the predefined modification rules just mentioned."
   ]
  },
  {
   "cell_type": "code",
   "execution_count": 5,
   "metadata": {},
   "outputs": [],
   "source": [
    "for sequence in df_db.seq:\n",
    "    peptides.send_sequence(sequence)"
   ]
  },
  {
   "cell_type": "markdown",
   "metadata": {},
   "source": [
    "As mentioned above, this function will log the sequence, modifications, and the ran ID of the simulation in the predefined CSV log file (`log.csv` by default).\n",
    "\n",
    "Later, we can use the ID's in the log file to download all the simulation results using the `download` function.\n",
    "\n",
    "For example:"
   ]
  },
  {
   "cell_type": "code",
   "execution_count": 6,
   "metadata": {},
   "outputs": [
    {
     "data": {
      "text/html": [
       "<div>\n",
       "<style scoped>\n",
       "    .dataframe tbody tr th:only-of-type {\n",
       "        vertical-align: middle;\n",
       "    }\n",
       "\n",
       "    .dataframe tbody tr th {\n",
       "        vertical-align: top;\n",
       "    }\n",
       "\n",
       "    .dataframe thead th {\n",
       "        text-align: right;\n",
       "    }\n",
       "</style>\n",
       "<table border=\"1\" class=\"dataframe\">\n",
       "  <thead>\n",
       "    <tr style=\"text-align: right;\">\n",
       "      <th></th>\n",
       "      <th>sequence</th>\n",
       "      <th>mod1</th>\n",
       "      <th>mod2</th>\n",
       "      <th>mod3</th>\n",
       "      <th>mod4</th>\n",
       "      <th>mod5</th>\n",
       "      <th>mod6</th>\n",
       "      <th>mod7</th>\n",
       "      <th>mod8</th>\n",
       "      <th>mod9</th>\n",
       "      <th>mod10</th>\n",
       "      <th>mod11</th>\n",
       "      <th>mod12</th>\n",
       "      <th>mod13</th>\n",
       "      <th>mod14</th>\n",
       "      <th>mod15</th>\n",
       "      <th>mod16</th>\n",
       "      <th>mod17</th>\n",
       "      <th>mod18</th>\n",
       "      <th>mod19</th>\n",
       "      <th>mod20</th>\n",
       "      <th>mod21</th>\n",
       "      <th>mod22</th>\n",
       "      <th>mod23</th>\n",
       "      <th>mod24</th>\n",
       "      <th>mod25</th>\n",
       "      <th>ran_id</th>\n",
       "    </tr>\n",
       "  </thead>\n",
       "  <tbody>\n",
       "    <tr>\n",
       "      <th>0</th>\n",
       "      <td>LSIILTATLTITTLDGITSVSLIPV</td>\n",
       "      <td>norleucine</td>\n",
       "      <td>No Modification</td>\n",
       "      <td>2aminobutyricacid</td>\n",
       "      <td>2aminobutyricacid</td>\n",
       "      <td>norleucine</td>\n",
       "      <td>No Modification</td>\n",
       "      <td>No Modification</td>\n",
       "      <td>No Modification</td>\n",
       "      <td>norleucine</td>\n",
       "      <td>No Modification</td>\n",
       "      <td>2aminobutyricacid</td>\n",
       "      <td>No Modification</td>\n",
       "      <td>No Modification</td>\n",
       "      <td>norleucine</td>\n",
       "      <td>No Modification</td>\n",
       "      <td>No Modification</td>\n",
       "      <td>2aminobutyricacid</td>\n",
       "      <td>No Modification</td>\n",
       "      <td>No Modification</td>\n",
       "      <td>norvaline</td>\n",
       "      <td>No Modification</td>\n",
       "      <td>norleucine</td>\n",
       "      <td>2aminobutyricacid</td>\n",
       "      <td>No Modification</td>\n",
       "      <td>norvaline</td>\n",
       "      <td>89006</td>\n",
       "    </tr>\n",
       "    <tr>\n",
       "      <th>1</th>\n",
       "      <td>LVATSVVDVALEDTADVPTPAEPAE</td>\n",
       "      <td>norleucine</td>\n",
       "      <td>norvaline</td>\n",
       "      <td>No Modification</td>\n",
       "      <td>No Modification</td>\n",
       "      <td>No Modification</td>\n",
       "      <td>norvaline</td>\n",
       "      <td>norvaline</td>\n",
       "      <td>No Modification</td>\n",
       "      <td>norvaline</td>\n",
       "      <td>No Modification</td>\n",
       "      <td>norleucine</td>\n",
       "      <td>No Modification</td>\n",
       "      <td>No Modification</td>\n",
       "      <td>No Modification</td>\n",
       "      <td>No Modification</td>\n",
       "      <td>No Modification</td>\n",
       "      <td>norvaline</td>\n",
       "      <td>No Modification</td>\n",
       "      <td>No Modification</td>\n",
       "      <td>No Modification</td>\n",
       "      <td>No Modification</td>\n",
       "      <td>No Modification</td>\n",
       "      <td>No Modification</td>\n",
       "      <td>No Modification</td>\n",
       "      <td>No Modification</td>\n",
       "      <td>7714</td>\n",
       "    </tr>\n",
       "    <tr>\n",
       "      <th>2</th>\n",
       "      <td>DILALILLSPSPDSGEESTASELSD</td>\n",
       "      <td>No Modification</td>\n",
       "      <td>2aminobutyricacid</td>\n",
       "      <td>norleucine</td>\n",
       "      <td>No Modification</td>\n",
       "      <td>norleucine</td>\n",
       "      <td>2aminobutyricacid</td>\n",
       "      <td>norleucine</td>\n",
       "      <td>norleucine</td>\n",
       "      <td>No Modification</td>\n",
       "      <td>No Modification</td>\n",
       "      <td>No Modification</td>\n",
       "      <td>No Modification</td>\n",
       "      <td>No Modification</td>\n",
       "      <td>No Modification</td>\n",
       "      <td>No Modification</td>\n",
       "      <td>No Modification</td>\n",
       "      <td>No Modification</td>\n",
       "      <td>No Modification</td>\n",
       "      <td>No Modification</td>\n",
       "      <td>No Modification</td>\n",
       "      <td>No Modification</td>\n",
       "      <td>No Modification</td>\n",
       "      <td>norleucine</td>\n",
       "      <td>No Modification</td>\n",
       "      <td>No Modification</td>\n",
       "      <td>36693</td>\n",
       "    </tr>\n",
       "    <tr>\n",
       "      <th>3</th>\n",
       "      <td>PTPDIGPELAIVIESSLEAASEIPG</td>\n",
       "      <td>No Modification</td>\n",
       "      <td>No Modification</td>\n",
       "      <td>No Modification</td>\n",
       "      <td>No Modification</td>\n",
       "      <td>2aminobutyricacid</td>\n",
       "      <td>No Modification</td>\n",
       "      <td>No Modification</td>\n",
       "      <td>No Modification</td>\n",
       "      <td>norleucine</td>\n",
       "      <td>No Modification</td>\n",
       "      <td>2aminobutyricacid</td>\n",
       "      <td>norvaline</td>\n",
       "      <td>2aminobutyricacid</td>\n",
       "      <td>No Modification</td>\n",
       "      <td>No Modification</td>\n",
       "      <td>No Modification</td>\n",
       "      <td>norleucine</td>\n",
       "      <td>No Modification</td>\n",
       "      <td>No Modification</td>\n",
       "      <td>No Modification</td>\n",
       "      <td>No Modification</td>\n",
       "      <td>No Modification</td>\n",
       "      <td>2aminobutyricacid</td>\n",
       "      <td>No Modification</td>\n",
       "      <td>No Modification</td>\n",
       "      <td>28912</td>\n",
       "    </tr>\n",
       "    <tr>\n",
       "      <th>4</th>\n",
       "      <td>DAVATEDLGGDDVITEPTTEEGPGD</td>\n",
       "      <td>No Modification</td>\n",
       "      <td>No Modification</td>\n",
       "      <td>norvaline</td>\n",
       "      <td>No Modification</td>\n",
       "      <td>No Modification</td>\n",
       "      <td>No Modification</td>\n",
       "      <td>No Modification</td>\n",
       "      <td>norleucine</td>\n",
       "      <td>No Modification</td>\n",
       "      <td>No Modification</td>\n",
       "      <td>No Modification</td>\n",
       "      <td>No Modification</td>\n",
       "      <td>norvaline</td>\n",
       "      <td>2aminobutyricacid</td>\n",
       "      <td>No Modification</td>\n",
       "      <td>No Modification</td>\n",
       "      <td>No Modification</td>\n",
       "      <td>No Modification</td>\n",
       "      <td>No Modification</td>\n",
       "      <td>No Modification</td>\n",
       "      <td>No Modification</td>\n",
       "      <td>No Modification</td>\n",
       "      <td>No Modification</td>\n",
       "      <td>No Modification</td>\n",
       "      <td>No Modification</td>\n",
       "      <td>42851</td>\n",
       "    </tr>\n",
       "  </tbody>\n",
       "</table>\n",
       "</div>"
      ],
      "text/plain": [
       "                    sequence             mod1               mod2  \\\n",
       "0  LSIILTATLTITTLDGITSVSLIPV       norleucine    No Modification   \n",
       "1  LVATSVVDVALEDTADVPTPAEPAE       norleucine          norvaline   \n",
       "2  DILALILLSPSPDSGEESTASELSD  No Modification  2aminobutyricacid   \n",
       "3  PTPDIGPELAIVIESSLEAASEIPG  No Modification    No Modification   \n",
       "4  DAVATEDLGGDDVITEPTTEEGPGD  No Modification    No Modification   \n",
       "\n",
       "                mod3               mod4               mod5               mod6  \\\n",
       "0  2aminobutyricacid  2aminobutyricacid         norleucine    No Modification   \n",
       "1    No Modification    No Modification    No Modification          norvaline   \n",
       "2         norleucine    No Modification         norleucine  2aminobutyricacid   \n",
       "3    No Modification    No Modification  2aminobutyricacid    No Modification   \n",
       "4          norvaline    No Modification    No Modification    No Modification   \n",
       "\n",
       "              mod7             mod8             mod9            mod10  \\\n",
       "0  No Modification  No Modification       norleucine  No Modification   \n",
       "1        norvaline  No Modification        norvaline  No Modification   \n",
       "2       norleucine       norleucine  No Modification  No Modification   \n",
       "3  No Modification  No Modification       norleucine  No Modification   \n",
       "4  No Modification       norleucine  No Modification  No Modification   \n",
       "\n",
       "               mod11            mod12              mod13              mod14  \\\n",
       "0  2aminobutyricacid  No Modification    No Modification         norleucine   \n",
       "1         norleucine  No Modification    No Modification    No Modification   \n",
       "2    No Modification  No Modification    No Modification    No Modification   \n",
       "3  2aminobutyricacid        norvaline  2aminobutyricacid    No Modification   \n",
       "4    No Modification  No Modification          norvaline  2aminobutyricacid   \n",
       "\n",
       "             mod15            mod16              mod17            mod18  \\\n",
       "0  No Modification  No Modification  2aminobutyricacid  No Modification   \n",
       "1  No Modification  No Modification          norvaline  No Modification   \n",
       "2  No Modification  No Modification    No Modification  No Modification   \n",
       "3  No Modification  No Modification         norleucine  No Modification   \n",
       "4  No Modification  No Modification    No Modification  No Modification   \n",
       "\n",
       "             mod19            mod20            mod21            mod22  \\\n",
       "0  No Modification        norvaline  No Modification       norleucine   \n",
       "1  No Modification  No Modification  No Modification  No Modification   \n",
       "2  No Modification  No Modification  No Modification  No Modification   \n",
       "3  No Modification  No Modification  No Modification  No Modification   \n",
       "4  No Modification  No Modification  No Modification  No Modification   \n",
       "\n",
       "               mod23            mod24            mod25  ran_id  \n",
       "0  2aminobutyricacid  No Modification        norvaline   89006  \n",
       "1    No Modification  No Modification  No Modification    7714  \n",
       "2         norleucine  No Modification  No Modification   36693  \n",
       "3  2aminobutyricacid  No Modification  No Modification   28912  \n",
       "4    No Modification  No Modification  No Modification   42851  "
      ]
     },
     "execution_count": 6,
     "metadata": {},
     "output_type": "execute_result"
    }
   ],
   "source": [
    "df_log = pd.read_csv(\"log.csv\")\n",
    "df_log.head()"
   ]
  },
  {
   "cell_type": "code",
   "execution_count": null,
   "metadata": {},
   "outputs": [],
   "source": [
    "for ran_id in df_log.ran_id:\n",
    "    peptides.download(ran_id)"
   ]
  },
  {
   "cell_type": "markdown",
   "metadata": {},
   "source": [
    "## Simulation Settings"
   ]
  },
  {
   "cell_type": "markdown",
   "metadata": {},
   "source": [
    "The simulation settings are predefined in the [settings.py](./src/settings.py) files too. The defaults are\n",
    "\n",
    "```python\n",
    "SETTINGS = {\n",
    "    \"email\": \"myemail@email.com\",\n",
    "    \"time\": \"50ps\",  # 50 picoseconds\n",
    "    \"env\": \"vac\",  # Peptide env: vaccumm\n",
    "    \"topol\": \"no\",\n",
    "    \"cluster\": \"no\",\n",
    "    \"traj\": \"no\",\n",
    "    \"graph\": \"no\",  # Graph and RMS: No\n",
    "}\n",
    "```"
   ]
  }
 ],
 "metadata": {
  "interpreter": {
   "hash": "a8f61be024eba58adef938c9aa1e29e02cb3dece83a5348b1a2dafd16a070453"
  },
  "kernelspec": {
   "display_name": "Python 3.8.12 ('base')",
   "language": "python",
   "name": "python3"
  },
  "language_info": {
   "codemirror_mode": {
    "name": "ipython",
    "version": 3
   },
   "file_extension": ".py",
   "mimetype": "text/x-python",
   "name": "python",
   "nbconvert_exporter": "python",
   "pygments_lexer": "ipython3",
   "version": "3.8.12"
  },
  "orig_nbformat": 4
 },
 "nbformat": 4,
 "nbformat_minor": 2
}
