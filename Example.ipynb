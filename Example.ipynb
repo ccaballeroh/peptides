{
 "cells": [
  {
   "cell_type": "code",
   "execution_count": null,
   "metadata": {},
   "outputs": [],
   "source": [
    "import pandas as pd\n",
    "\n",
    "import src.process_fasta as process_fasta\n",
    "import src.peptides as peptides"
   ]
  },
  {
   "cell_type": "markdown",
   "metadata": {},
   "source": [
    "## `process_fasta`"
   ]
  },
  {
   "cell_type": "markdown",
   "metadata": {},
   "source": [
    "We can proccess all the FASTA files contained in an input folder with the `run` function in the `process_fasta` module. This creates a CSV file with the `id` (e.g., 10E_9999) and the sequence `seq`. The names of the input folder and the CSV output file are defined in the [settings.py](./src/settings.py) file (`inputs` and `db.csv` by default). "
   ]
  },
  {
   "cell_type": "code",
   "execution_count": null,
   "metadata": {},
   "outputs": [],
   "source": [
    "db_file = process_fasta.run()  # the function returns the CSV file name"
   ]
  },
  {
   "cell_type": "markdown",
   "metadata": {},
   "source": [
    "We can read the CSV file just created with pandas:"
   ]
  },
  {
   "cell_type": "code",
   "execution_count": null,
   "metadata": {},
   "outputs": [],
   "source": [
    "pd.options.display.max_columns=27\n",
    "df_db = pd.read_csv(db_file)\n",
    "df_db.head()"
   ]
  },
  {
   "cell_type": "markdown",
   "metadata": {},
   "source": [
    "## `send_sequence_mods`"
   ]
  },
  {
   "cell_type": "markdown",
   "metadata": {},
   "source": [
    "The function `send_sequence_mods` in the `peptides` module sends a sequence and a modification list. For example, for the sequence `GSEKMSTAISVLLAQAVFLLLTSQR` with no modification in any of its letters, the following code:"
   ]
  },
  {
   "cell_type": "code",
   "execution_count": null,
   "metadata": {},
   "outputs": [],
   "source": [
    "test_seq = \"GSEKMSTAISVLLAQAVFLLLTSQR\"\n",
    "mods_list = [\n",
    "    \"No Modification\", \"No Modification\", \"No Modification\", \"No Modification\", \"No Modification\",\n",
    "    \"No Modification\", \"No Modification\", \"No Modification\", \"No Modification\", \"No Modification\",\n",
    "    \"No Modification\", \"No Modification\", \"No Modification\", \"No Modification\", \"No Modification\",\n",
    "    \"No Modification\", \"No Modification\", \"No Modification\", \"No Modification\", \"No Modification\",\n",
    "    \"No Modification\", \"No Modification\", \"No Modification\", \"No Modification\", \"No Modification\",\n",
    "]\n",
    "\n",
    "peptides.send_sequence_mods(test_seq, mods_list, download_flag=True)"
   ]
  },
  {
   "cell_type": "markdown",
   "metadata": {},
   "source": [
    "sends the sequence and its modification list to the webpage and waits for the simulation file to be downloaded (note the `download_flag` set to `True`)."
   ]
  },
  {
   "cell_type": "markdown",
   "metadata": {},
   "source": [
    "## `download`"
   ]
  },
  {
   "cell_type": "markdown",
   "metadata": {},
   "source": [
    "Every sequence and list of modifications sent to the webpage using the `send_sequence_mods` and `send_sequence` functions of the `peptides` module gets logged into a CSV log file specified in the [settings.py](./src/settings.py) file (`log.csv` by default).\n",
    "\n",
    "The log file contains a `sequence` column with the sequence sent to the webpage, 25 columns named `mod1` through `mod25` with the modification for each of the 25 letters of the sequence, and a column `ran_id` with the ran ID of the simulation results.\n",
    "\n",
    "We can use that ID to later download the simulation results from the webpage using the `download` function in the `peptides` module. The function will download de PDB files to a predefined location (specified in the [settings.py](./src/settings.py)), which is `outputs` by default.\n",
    "\n",
    "**N.B.**: The simulation results are not available immediately and get deleted from the webpage after three days."
   ]
  },
  {
   "cell_type": "code",
   "execution_count": null,
   "metadata": {},
   "outputs": [],
   "source": [
    "ran_id = 19748  # example ID\n",
    "peptides.download(ran_id)"
   ]
  },
  {
   "cell_type": "markdown",
   "metadata": {},
   "source": [
    "## `send_sequence`"
   ]
  },
  {
   "cell_type": "markdown",
   "metadata": {},
   "source": [
    "We can also send a sequence with preset modifications. The rules of modifications are defined in the [settings.py](./src/settings.py) file).\n",
    "\n",
    "For example, we can read the sequences contained in the CSV product of the `process_fasta.run` function one by and send them to the website using the `send_sequence` function in the `peptides` module with the predefined modification rules just mentioned."
   ]
  },
  {
   "cell_type": "code",
   "execution_count": null,
   "metadata": {},
   "outputs": [],
   "source": [
    "for sequence in df_db.seq:\n",
    "    peptides.send_sequence(sequence)"
   ]
  },
  {
   "cell_type": "markdown",
   "metadata": {},
   "source": [
    "As mentioned above, this function will log the sequence, modifications and the ran ID of the simulation in the predefined CSV log file (`log.csv` by default).\n",
    "\n",
    "Later, we can use the ID's in the log file to download all the simulation results using the `download` function.\n",
    "\n",
    "For example:"
   ]
  },
  {
   "cell_type": "code",
   "execution_count": null,
   "metadata": {},
   "outputs": [],
   "source": [
    "df_log = pd.read_csv(\"log.csv\")\n",
    "df_log.head()"
   ]
  },
  {
   "cell_type": "code",
   "execution_count": null,
   "metadata": {},
   "outputs": [],
   "source": [
    "for ran_id in df_log.ran_id:\n",
    "    peptides.download(ran_id)"
   ]
  },
  {
   "cell_type": "markdown",
   "metadata": {},
   "source": [
    "## Simulation Settings"
   ]
  },
  {
   "cell_type": "markdown",
   "metadata": {},
   "source": [
    "The simulation settings are predefined in the [settings.py](./src/settings.py) files too. The defaults are\n",
    "\n",
    "```python\n",
    "SETTINGS = {\n",
    "    \"email\": \"myemail@email.com\",\n",
    "    \"time\": \"50ps\",  # 50 picoseconds\n",
    "    \"env\": \"vac\",  # Peptide env: vaccumm\n",
    "    \"topol\": \"no\",\n",
    "    \"cluster\": \"no\",\n",
    "    \"traj\": \"no\",\n",
    "    \"graph\": \"no\",  # Graph and RMS: No\n",
    "}\n",
    "```"
   ]
  }
 ],
 "metadata": {
  "interpreter": {
   "hash": "a8f61be024eba58adef938c9aa1e29e02cb3dece83a5348b1a2dafd16a070453"
  },
  "kernelspec": {
   "display_name": "Python 3.8.12 ('base')",
   "language": "python",
   "name": "python3"
  },
  "language_info": {
   "codemirror_mode": {
    "name": "ipython",
    "version": 3
   },
   "file_extension": ".py",
   "mimetype": "text/x-python",
   "name": "python",
   "nbconvert_exporter": "python",
   "pygments_lexer": "ipython3",
   "version": "3.8.12"
  },
  "orig_nbformat": 4
 },
 "nbformat": 4,
 "nbformat_minor": 2
}
